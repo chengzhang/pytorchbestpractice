{
 "cells": [
  {
   "cell_type": "code",
   "execution_count": null,
   "id": "fce8d778",
   "metadata": {},
   "outputs": [],
   "source": [
    "# CrossEntropyLoss\n",
    "交叉熵的公式 loss = Σplogq （Σ/p/q都省略了下标 i）\n",
    "在标签是 onehot 向量时，等价于 nn.LogSoftmax + nn.NLLLoss。当标签不是 onehot 时，另当别论。\n",
    "nn.LogSoftmax 是什么？就是 log(softmax)，注意，\n",
    "其中 p 是真实 label，q 是预测分类概率，它是 softmax 结果，所以再接一个 log，也是公式里的一部分。\n",
    "把 softmax 和 log 一起计算，效率更高，数值更加稳定。"
   ]
  }
 ],
 "metadata": {
  "hide_input": false,
  "kernelspec": {
   "display_name": "Python 3",
   "language": "python",
   "name": "python3"
  },
  "language_info": {
   "codemirror_mode": {
    "name": "ipython",
    "version": 3
   },
   "file_extension": ".py",
   "mimetype": "text/x-python",
   "name": "python",
   "nbconvert_exporter": "python",
   "pygments_lexer": "ipython3",
   "version": "3.8.8"
  },
  "toc": {
   "base_numbering": 1,
   "nav_menu": {},
   "number_sections": true,
   "sideBar": true,
   "skip_h1_title": false,
   "title_cell": "Table of Contents",
   "title_sidebar": "Contents",
   "toc_cell": false,
   "toc_position": {},
   "toc_section_display": true,
   "toc_window_display": false
  },
  "varInspector": {
   "cols": {
    "lenName": 16,
    "lenType": 16,
    "lenVar": 40
   },
   "kernels_config": {
    "python": {
     "delete_cmd_postfix": "",
     "delete_cmd_prefix": "del ",
     "library": "var_list.py",
     "varRefreshCmd": "print(var_dic_list())"
    },
    "r": {
     "delete_cmd_postfix": ") ",
     "delete_cmd_prefix": "rm(",
     "library": "var_list.r",
     "varRefreshCmd": "cat(var_dic_list()) "
    }
   },
   "types_to_exclude": [
    "module",
    "function",
    "builtin_function_or_method",
    "instance",
    "_Feature"
   ],
   "window_display": false
  }
 },
 "nbformat": 4,
 "nbformat_minor": 5
}
